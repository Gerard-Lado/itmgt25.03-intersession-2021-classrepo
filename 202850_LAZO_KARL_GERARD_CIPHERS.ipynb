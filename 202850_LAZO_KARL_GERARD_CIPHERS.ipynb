{
 "cells": [
  {
   "cell_type": "markdown",
   "id": "56312606-8a8a-4880-b1b2-963a5a6543b1",
   "metadata": {},
   "source": [
    "# Assignment: Ancient Ciphers\n",
    "\n",
    "This problem set aims to synthesize Modules 2 and 3. This means that you should be able to solve these problems using only variables, functions, conditionals, loops, and string methods. To the advanced learners out there, that means that you should not use lists, dictionaries, and libraries to solve these problems.  \n",
    "\n",
    "To be frank, with only up to loops, it is not easy to make meaningful programs. This is about the best we can do for the moment, but we promise that Python will become far more useful and fun after the departmental test."
   ]
  },
  {
   "cell_type": "markdown",
   "id": "b25562bf-ed13-4e52-b003-fdbf20389d78",
   "metadata": {
    "tags": []
   },
   "source": [
    "## Problem 1\n",
    "## Caesar Cipher (6 points)\n",
    "\n",
    "A _cipher_ is a way of disguising a message by encoding it.  \n",
    "\n",
    "One of the simplest ciphers is a \"shift cipher\" known as the _Caesar cipher_. The way it works is very simple.  \n",
    "\n",
    "1. Start with a message, such as \"ATTACK AT DAWN\".\n",
    "2. Choose a number, such as 3.\n",
    "3. _Shift_ all letters in the message to the right by the chosen number. In this case, shifting all letters in \"ATTACK AT DAWN\" by 3 results in the message \"DWWDFN DW GDZQ\".\n",
    "\n",
    "**Write a function called `problem_1` that takes two positional arguments `message` and `shift`. It should apply the Caesar cipher to a message and _return_ the result.**  \n",
    "\n",
    "For full credit:\n",
    "\n",
    "1. The function must ignore spaces.\n",
    "2. The function must be able to \"wrap around\" if it reaches the end of the alphabet. (e.g., shifting Z by 1 should result in A, shifting Z by 2 should result in B, etc.)\n",
    "\n",
    "For your convenience:\n",
    "1. Assume that all letters will be uppercase.\n",
    "2. Be aware of the `chr()` function. `chr()` takes an Unicode code number and returns the character associated with that number (e.g., chr(65) => \"A\").\n",
    "3. Be aware of the `ord()` function. `ord()` takes a Unicode character and returns the Unicode code associated with that character (e.g., ord(\"A\") => 65).\n",
    "4. Be aware that the Unicode codes of the uppercase English alphabet are Unicode codes 65 to 90, where 65 = A, 66 = B, ..., 90 = Z.\n",
    "5. The shift will always be a positive integer."
   ]
  },
  {
   "cell_type": "code",
   "execution_count": 92,
   "id": "23e3727f-731e-4c1c-a178-49b34dd60bc9",
   "metadata": {},
   "outputs": [
    {
     "data": {
      "text/plain": [
       "'XUBBEBQPE'"
      ]
     },
     "execution_count": 92,
     "metadata": {},
     "output_type": "execute_result"
    }
   ],
   "source": [
    "\n",
    "\n",
    "def problem_1(message, shift):\n",
    "    #I realized that ord() and chr() will have me doing Math, so I made a dictionary of the alphabet instead\n",
    "    alphabet_dictionary = {\n",
    "                    0: \"A\", \n",
    "                    1: \"B\", \n",
    "                    2: \"C\", \n",
    "                    3: \"D\", \n",
    "                    4: \"E\", \n",
    "                    5: \"F\", \n",
    "                    6: \"G\", \n",
    "                    7: \"H\", \n",
    "                    8: \"I\", \n",
    "                    9: \"J\", \n",
    "                    10: \"K\", \n",
    "                    11: \"L\", \n",
    "                    12: \"M\", \n",
    "                    13: \"N\", \n",
    "                    14: \"O\", \n",
    "                    15: \"P\", \n",
    "                    16: \"Q\", \n",
    "                    17: \"R\", \n",
    "                    18: \"S\", \n",
    "                    19: \"T\", \n",
    "                    20: \"U\", \n",
    "                    21: \"V\", \n",
    "                    22: \"W\", \n",
    "                    23: \"X\", \n",
    "                    24: \"Y\", \n",
    "                    25: \"Z\"}\n",
    "\n",
    "    inverse_dictionary = {\n",
    "        \"A\": 0,\n",
    "        \"B\": 1,\n",
    "        \"C\": 2,\n",
    "        \"D\": 3,\n",
    "        \"E\": 4,\n",
    "        \"F\": 5,\n",
    "        \"G\": 6,\n",
    "        \"H\": 7,\n",
    "        \"I\": 8,\n",
    "        \"J\": 9,\n",
    "        \"K\": 10,\n",
    "        \"L\": 11,\n",
    "        \"M\": 12,\n",
    "        \"N\": 13,\n",
    "        \"O\": 14,\n",
    "        \"P\": 15,\n",
    "        \"Q\": 16,\n",
    "        \"R\": 17,\n",
    "        \"S\": 18,\n",
    "        \"T\": 19,\n",
    "        \"U\": 20,\n",
    "        \"V\": 21,\n",
    "        \"W\": 22,\n",
    "        \"X\": 23,\n",
    "        \"Y\": 24,\n",
    "        \"Z\": 25}\n",
    "    \n",
    "    #Variables and the like\n",
    "    message_list = [] #List of the characters that compose the input message\n",
    "    encrypted_message = \"\" #Final output\n",
    "    \n",
    "    #Breaking the inputted message into individual characters on a list. I use lists because it's easier to visualize when I think about them.\n",
    "    for a in message:\n",
    "        message_list.append(a) \n",
    "    \n",
    "    #Encrypting each item on the list, one by one\n",
    "    for number in range(len(message)):\n",
    "        if message_list[number] == \" \": #If the program detects a space, it skips it. It was generating a KeyError for the longest time until I realized I should have added a space between the quotes.\n",
    "            pass\n",
    "        else:\n",
    "            if inverse_dictionary[message_list[number]] + shift <= 25: #Shift with no issues\n",
    "                message_list[number] = alphabet_dictionary[inverse_dictionary[message_list[number]] + shift]\n",
    "            else: #Shifting while having it loop around\n",
    "                message_list[number] = alphabet_dictionary[((inverse_dictionary[message_list[number]] + shift) % 26)] #((inverse_dictionary[message_list[number]] + shift) - 26)]\n",
    "                \n",
    "    #Concatenating the items on the now-encrypted list into one string variable\n",
    "    for b in range(len(message)):\n",
    "        encrypted_message = encrypted_message + message_list[b]\n",
    "    \n",
    "    return encrypted_message\n",
    "\n",
    "\n",
    "problem_1(\"HELLOLAZO\", 10000)"
   ]
  },
  {
   "cell_type": "markdown",
   "id": "74b974e9-1602-414f-98f0-2f30b0a29265",
   "metadata": {},
   "source": [
    "## Problem 2\n",
    "## Scytale Cipher (8 points)\n",
    "\n",
    "Another ancient cipher (of questionable effectiveness) is the scytale-based cipher. A _scytale_ is a cylinder around which you can wrap a long strip of parchment that contained a string of apparent gibberish. The parchment, when read using the scytale, would reveal a message due to every nth letter now appearing next to each other, revealing a proper message.  \n",
    "\n",
    "Sources:  \n",
    "1. https://en.wikipedia.org/wiki/Scytale\n",
    "\n",
    "Here is the algorithm you can use to implement a scytale-style cipher:\n",
    "\n",
    "__Encoding__\n",
    "1. Take a message to be encoded and a \"shift\" number. For this example, we will use \"INFORMATION_AGE\" as the message and 3 as the shift.\n",
    "2. Check if the length of the message is a multiple of the shift. If it is not, add additional underscores to the end of the message until it is. In this example, \"INFORMATION_AGE\" is already a multiple of 3, so we will leave it alone.\n",
    "3. This is the tricky part. Construct the encoded message. For each index `i` in the encoded message, use the character at the index `(i // shift) + (len(message) // shift) * (i % shift)` of the raw message. If this number doesn't make sense, you can play around with the cipher at https://dencode.com/en/cipher/scytale to try to understand it.\n",
    "4. Return the encoded message. In this case, the output should be \"IMNNA_FTAOIGROE\".\n",
    "\n",
    "Another expected output: the message \"INFORMATION_AGE\" and the shift 4 should return \"IRIANMOGFANEOT__\".\n",
    "\n",
    "__Write a function called `problem_2` that takes two positional arguments `message` and `shift`. It should apply this scytale-style cipher to a message and return the encoded message.__  \n",
    "\n",
    "For your convenience:  \n",
    "1. A message will only ever contain capital letters and underscores. (Underscores will be used to represent spaces.)  \n",
    "2. The shift will always be a positive integer, and it will never exceed the length of the message."
   ]
  },
  {
   "cell_type": "code",
   "execution_count": 2,
   "id": "1c12b3fb-1abf-4bb7-8243-22888168fde7",
   "metadata": {},
   "outputs": [],
   "source": [
    "\n",
    "def problem_2(message, shift):\n",
    "    #Variables and the like\n",
    "    message_list = [\"\"] #Another list to hold the individual characters of the input message\n",
    "    final_message = \"\" #Output message\n",
    "    extension = shift - (len(message) % shift) #the number of underscores\n",
    "    f = 1 #I rep\n",
    "    g = 1\n",
    "    \n",
    "    #Evaluating whether the message needs to be extended or not\n",
    "    if len(message) % shift == 0: #If it doesn't need to be extended, then the string will be broken down into the list\n",
    "        for c in message:\n",
    "            message_list.append(c) \n",
    "    else: #If it does need to be extended, then the string will be broken down into the list, then....\n",
    "        for d in message:\n",
    "            message_list.append(d) \n",
    "        # using the extension calculated for earlier,\n",
    "        # underscores are added onto the end of the list depending on the value of the extension variable\n",
    "        for e in range(extension):\n",
    "            message_list.append(\"_\")\n",
    "    \n",
    "    #print(f\"{message_list}\")\n",
    "    \n",
    "    #Using my Decoder code for encrypting\n",
    "    interval = (len(message_list) / shift)\n",
    "    \n",
    "    while len(final_message) < len(message_list) - 1:\n",
    "        while f < len(message_list):\n",
    "            final_message = final_message + message_list[int(f)]\n",
    "            f = f + interval\n",
    "        g = g + 1\n",
    "        f = g\n",
    "        \n",
    "    #Encrypting the list (OLD CODE)\n",
    "    #for f in range(len(message_list) + 1):\n",
    "        #I had an issue where the code wouldn't stop encrypting soon enough, so I played around with the numbers until it stopped\n",
    "        #if len(final_message) % shift == 0 and len(final_message) == len(message_list) - 1:\n",
    "            #pass\n",
    "        #I added + 1s to compensate for the code starting its counter from 0\n",
    "        #else:\n",
    "            #final_message = final_message + message_list[((f // shift) + ((len(message_list) + 1) // shift) * (f % shift)) + 1]\n",
    "    \n",
    "    return final_message"
   ]
  },
  {
   "cell_type": "code",
   "execution_count": 3,
   "id": "619d3ea0",
   "metadata": {},
   "outputs": [
    {
     "data": {
      "text/plain": [
       "'LSRE_NTEE__E_I_SGOTR__TWTAO_GH___'"
      ]
     },
     "execution_count": 3,
     "metadata": {},
     "output_type": "execute_result"
    }
   ],
   "source": [
    "problem_2(\"LETS_WRITE_A_SONG_TOGETHER\", 11)"
   ]
  },
  {
   "cell_type": "markdown",
   "id": "2eb38a6d-f717-470e-af0d-38e0cdaec599",
   "metadata": {},
   "source": [
    "## Problem 3\n",
    "## Vigenere Cipher (8 points)\n",
    "\n",
    "The Caesar cipher is very easy to crack. The _Vigenere cipher_ is an extension to the Caesar cipher that makes it a little more difficult to crack. There are many variations of this cipher, but for the purposes of this exercise, this is how it works:\n",
    "\n",
    "1. Start with a message, such as \"MY MESSAGE\".\n",
    "2. Choose a keyphrase, such as \"KEY\".\n",
    "3. Repeat the keyphrase until it matches the length of the message. In this case, extend \"KEY\" to \"KEYKEYKEYK\". This should yield an implicit 1-1 mapping between letters in the message to letters in the key.\n",
    "4. Convert all letters in the key to their number values (in this particular case, A => 0, Z => 25, etc.). Shift the letters in the message to the right by the number value of the respective letter in the extended key. In this case, applying the cipher yields the encrypted message \"WC WIQCEEO\".\n",
    "\n",
    "**Write a function called `problem_3` that takes two positional arguments `message` and `key`. It should apply the Vigenere cipher to the message and return the encoded message.**  \n",
    "\n",
    "For full credit:\n",
    "1. Spaces in the message count as characters and thus count as additional message length for the purposes of key extension, but they are to be ignored when applying the cipher to the message.\n",
    "\n",
    "For your convenience:\n",
    "1. You are allowed to call your Caesar cipher function.\n",
    "2. Assume that all letters will be uppercase.\n",
    "3. Assume that the key will always be the same length or shorter than the message. The key will only ever have uppercase letters (i.e., no spaces).\n",
    "4. Assume that the message will only ever consist of uppercase letters and spaces."
   ]
  },
  {
   "cell_type": "code",
   "execution_count": 52,
   "id": "ccf5ef3d-3865-492e-a155-9915f53c259f",
   "metadata": {
    "scrolled": false
   },
   "outputs": [
    {
     "name": "stdout",
     "output_type": "stream",
     "text": [
      "KEYKEYKEYK\n"
     ]
    },
    {
     "data": {
      "text/plain": [
       "'WC WIQCEEO'"
      ]
     },
     "execution_count": 52,
     "metadata": {},
     "output_type": "execute_result"
    }
   ],
   "source": [
    "def problem_3(message, key):\n",
    "    \n",
    "    #variables and the like\n",
    "    encrypted_message = \"\" #final encrypted output\n",
    "    message_list = [] #list of characters that compose the input message\n",
    "    key_list = [] #list of characters that compose the extended keyword\n",
    "    key_full = \"\" #string variable that represents the extended keyword\n",
    "    alphabet_dictionary2 = {\n",
    "                0: \"A\", \n",
    "                1: \"B\", \n",
    "                2: \"C\", \n",
    "                3: \"D\", \n",
    "                4: \"E\", \n",
    "                5: \"F\", \n",
    "                6: \"G\", \n",
    "                7: \"H\", \n",
    "                8: \"I\", \n",
    "                9: \"J\", \n",
    "                10: \"K\", \n",
    "                11: \"L\", \n",
    "                12: \"M\", \n",
    "                13: \"N\", \n",
    "                14: \"O\", \n",
    "                15: \"P\", \n",
    "                16: \"Q\", \n",
    "                17: \"R\", \n",
    "                18: \"S\", \n",
    "                19: \"T\", \n",
    "                20: \"U\", \n",
    "                21: \"V\", \n",
    "                22: \"W\", \n",
    "                23: \"X\", \n",
    "                24: \"Y\", \n",
    "                25: \"Z\"}\n",
    "\n",
    "    inverse_dictionary2 = {\n",
    "        \"A\": 0,\n",
    "        \"B\": 1,\n",
    "        \"C\": 2,\n",
    "        \"D\": 3,\n",
    "        \"E\": 4,\n",
    "        \"F\": 5,\n",
    "        \"G\": 6,\n",
    "        \"H\": 7,\n",
    "        \"I\": 8,\n",
    "        \"J\": 9,\n",
    "        \"K\": 10,\n",
    "        \"L\": 11,\n",
    "        \"M\": 12,\n",
    "        \"N\": 13,\n",
    "        \"O\": 14,\n",
    "        \"P\": 15,\n",
    "        \"Q\": 16,\n",
    "        \"R\": 17,\n",
    "        \"S\": 18,\n",
    "        \"T\": 19,\n",
    "        \"U\": 20,\n",
    "        \"V\": 21,\n",
    "        \"W\": 22,\n",
    "        \"X\": 23,\n",
    "        \"Y\": 24,\n",
    "        \"Z\": 25\n",
    "        }\n",
    "\n",
    "    \n",
    "    #breaking the message into a list of letters\n",
    "    for g in message:\n",
    "        message_list.append(g) \n",
    "    \n",
    "    #extending the key and breaking it into a list of letters\n",
    "    if len(message_list) % len(key) == 0: #if the message is a multiple of the key:\n",
    "        while len(key_full) < len(message_list):\n",
    "            key_full = key_full + key\n",
    "        for h in key_full:\n",
    "            key_list.append(h)\n",
    "    \n",
    "    elif len(message_list) % len(key) != 0: #if the message isn't a multiple of the key\n",
    "        key_fragment = key[0: len(message) % len(key)]\n",
    "        for i in range(len(message) // len(key)):\n",
    "            key_full = key_full + key\n",
    "        key_full = key_full + key_fragment\n",
    "        for j in key_full:\n",
    "            key_list.append(j)\n",
    "    \n",
    "    print(key_full)\n",
    "    #converting the keylist into numerical values for the later shift\n",
    "    for k in range(len(key_list)):\n",
    "        key_list[k] = inverse_dictionary2[key_list[k]]\n",
    "    \n",
    "    #print(f\"{key_list}\")\n",
    "     \n",
    "    #I appropriated the code from the Caesar Cipher, except I'm using the shift numbers from the key_list instead of a single shift value\n",
    "    for l in range(len(message)):\n",
    "        if message_list[l] == \" \":\n",
    "            pass\n",
    "        else:\n",
    "            if inverse_dictionary2[message_list[l]] + key_list[l] <= 25:\n",
    "                message_list[l] = alphabet_dictionary2[inverse_dictionary2[message_list[l]] + key_list[l]]\n",
    "            else:\n",
    "                message_list[l] = alphabet_dictionary2[((inverse_dictionary2[message_list[l]] + key_list[l]) - 26)]\n",
    "    \n",
    "    #concatenating the list items into a string                                           \n",
    "    for m in range(len(message_list)):\n",
    "        encrypted_message = encrypted_message + message_list[m]\n",
    "    \n",
    "    return encrypted_message\n",
    "\n",
    "problem_3(\"MY MESSAGE\", \"KEY\")"
   ]
  },
  {
   "cell_type": "markdown",
   "id": "de6f141e-1e48-4124-bd55-a49c502f28d3",
   "metadata": {},
   "source": [
    "## Problem 4\n",
    "## Scytale De-cipher (8 points)\n",
    "\n",
    "There is no brief for this number.  \n",
    "\n",
    "__Write a function called `problem_4` that takes two positional arguments `message` and `shift`. It should decipher a message that is encoded in the scytale-style cipher from Problem 2 and return the decoded message.__  \n",
    "\n",
    "For your convenience:\n",
    "1. Do not trim the added underscores at the end of the message."
   ]
  },
  {
   "cell_type": "code",
   "execution_count": 88,
   "id": "b301a009-0c65-4826-ae0a-e24dccc323d6",
   "metadata": {},
   "outputs": [],
   "source": [
    "def problem_4(message, shift):\n",
    "    #Variables and the like\n",
    "    message_list = [\"\"] #Another list for the input message\n",
    "    o = 1 # o is the variable that uses the shift variable to reveal the decrypted order of the letters.\n",
    "    p = 1 # p counts how many times the decrypter returns to the beginning of the message\n",
    "    decrypted_message = \"\" #Final output\n",
    "\n",
    "    #Breaking the encrypted input message into items on a list\n",
    "    for n in message:\n",
    "        message_list.append(n)\n",
    "    \n",
    "    # The Shift is the interval that the function skips when decrypting the message. \n",
    "    # For example, when encrypting IMMNA_FTAOIGROE with a shift of 3, it starts with I, skips 3 letters,\n",
    "    # continues with N, skips 3 letters, then goes to F, then carries on.\n",
    "    # Once the function gets to R, a point where skipping by 3 would go past the number of characters in the message,\n",
    "    # it returns to the beginning. But since it has already decrypted the first letter, it moves ahead by 1 letter to M\n",
    "    # and it once again continues to skip by 3. Once it reaches the end again, it will again look for the first letter that \n",
    "    # hasn't been decrypted yet.\n",
    "    # This entire cycle of skipping and returning to the beginning of the message (adding 1 each time) continues until the entire\n",
    "    # message is decrypted.\n",
    "    \n",
    "    while len(decrypted_message) < len(message):\n",
    "        while o <= len(message):\n",
    "            if o <= len(message):\n",
    "                decrypted_message = decrypted_message + message_list[int(o)]\n",
    "                o = o + shift\n",
    "            else:\n",
    "                pass\n",
    "        p = p + 1\n",
    "        o = p\n",
    "    return decrypted_message"
   ]
  },
  {
   "cell_type": "code",
   "execution_count": 91,
   "id": "30e77e13",
   "metadata": {},
   "outputs": [
    {
     "data": {
      "text/plain": [
       "'PLEASE_PLEASE_WORK____'"
      ]
     },
     "execution_count": 91,
     "metadata": {},
     "output_type": "execute_result"
    }
   ],
   "source": [
    "problem_4(\"PES_LAEWR__LAEPES_OK__\", 11)"
   ]
  },
  {
   "cell_type": "code",
   "execution_count": 111,
   "id": "f5595851",
   "metadata": {},
   "outputs": [
    {
     "data": {
      "text/plain": [
       "15"
      ]
     },
     "execution_count": 111,
     "metadata": {},
     "output_type": "execute_result"
    }
   ],
   "source": [
    "(15 + 300) % 300"
   ]
  },
  {
   "cell_type": "code",
   "execution_count": null,
   "id": "264beafb",
   "metadata": {},
   "outputs": [],
   "source": []
  }
 ],
 "metadata": {
  "kernelspec": {
   "display_name": "Python 3",
   "language": "python",
   "name": "python3"
  },
  "language_info": {
   "codemirror_mode": {
    "name": "ipython",
    "version": 3
   },
   "file_extension": ".py",
   "mimetype": "text/x-python",
   "name": "python",
   "nbconvert_exporter": "python",
   "pygments_lexer": "ipython3",
   "version": "3.8.8"
  }
 },
 "nbformat": 4,
 "nbformat_minor": 5
}
