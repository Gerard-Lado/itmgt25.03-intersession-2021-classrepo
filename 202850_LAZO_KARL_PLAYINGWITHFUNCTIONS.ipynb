{
 "cells": [
  {
   "cell_type": "markdown",
   "id": "b311cd50-76d0-4eff-aacf-c954d7783de3",
   "metadata": {},
   "source": [
    "# Assignment: Playing with Functions\n",
    "\n",
    "This problem set aims to serve as a stepping stone from basic Python to intermediate Python.  "
   ]
  },
  {
   "cell_type": "markdown",
   "id": "7843e78a-c77f-4662-900c-714330ada001",
   "metadata": {},
   "source": [
    "## Problem 1\n",
    "## Factorial (1 point)\n",
    "\n",
    "The **factorial** of a number is the product of that number and all the numbers below it. For example, 5 factorial (denoted 5! in math) is 5 * 4 * 3 * 2 * 1, which is 120.  \n",
    "\n",
    "**Write a function called `problem_1` that takes one positional argument `number`. The function should return  the factorial of `number` as an integer.**\n",
    "\n",
    "Example input/output:  \n",
    "`problem_1(5)` => `120`  \n",
    "`problem_1(10)` => `3628800`  "
   ]
  },
  {
   "cell_type": "code",
   "execution_count": 7,
   "id": "1a62b7a0-5d38-42dd-8cb8-ced94be5455d",
   "metadata": {},
   "outputs": [
    {
     "data": {
      "text/plain": [
       "3628800"
      ]
     },
     "execution_count": 7,
     "metadata": {},
     "output_type": "execute_result"
    }
   ],
   "source": [
    "def problem_1(number):\n",
    "    factorial = 1\n",
    "    for a in range(number):\n",
    "        factorial = factorial * (a + 1)\n",
    "    return factorial\n",
    "\n",
    "problem_1(10)"
   ]
  },
  {
   "cell_type": "markdown",
   "id": "b95d08a5-e4f9-4bb4-8e18-e09e629df96b",
   "metadata": {},
   "source": [
    "## Problem 2\n",
    "## Guessing Game (2 points) \n",
    "\n",
    "Recall that we use `input()` to ask for user input.  \n",
    "\n",
    "**Write a function called `problem_2` that takes one positional argument `passphrase`. The function should ask the user to enter the passphrase with `input()`. If the user enters the correct passphrase, the function should return the integer `1`. If the user enters the wrong passphrase, the function should keep asking them for the passphrase. If the user gets the passphrase wrong 3 times, the function should return the integer `0`.**  \n",
    "\n",
    "Example input/output:  \n",
    "\n",
    "Function input:  \n",
    "`problem_2(\"chums\")`  \n",
    "Simulated user input:  \n",
    "`joben`  \n",
    "`chums`  \n",
    "Output:  \n",
    "`1`  \n",
    "\n",
    "Function input:  \n",
    "`problem_2(\"annika\")`  \n",
    "Simulated user input:  \n",
    "`joe`  \n",
    "`earl`  \n",
    "`niks`  \n",
    "Output:  \n",
    "`0`"
   ]
  },
  {
   "cell_type": "code",
   "execution_count": 16,
   "id": "948e9ab7-85e3-417e-914d-c1c27bdbfcdb",
   "metadata": {},
   "outputs": [
    {
     "name": "stdout",
     "output_type": "stream",
     "text": [
      "Input passphrase: joe\n",
      "Input passphrase: earl\n",
      "Input passphrase: niks\n"
     ]
    },
    {
     "data": {
      "text/plain": [
       "0"
      ]
     },
     "execution_count": 16,
     "metadata": {},
     "output_type": "execute_result"
    }
   ],
   "source": [
    "def problem_2(passphrase):\n",
    "    error_counter = 0\n",
    "    entered_passphrase = \"\"\n",
    "    while entered_passphrase != passphrase and error_counter < 3:\n",
    "        entered_passphrase = input(\"Input passphrase: \")\n",
    "        if entered_passphrase == passphrase:\n",
    "            return 1\n",
    "            break\n",
    "        else:\n",
    "            error_counter = error_counter + 1\n",
    "    return 0\n",
    "\n",
    "problem_2(\"annika\")"
   ]
  },
  {
   "cell_type": "code",
   "execution_count": 13,
   "id": "c90a873a",
   "metadata": {},
   "outputs": [
    {
     "ename": "NameError",
     "evalue": "name 'bu' is not defined",
     "output_type": "error",
     "traceback": [
      "\u001b[1;31m---------------------------------------------------------------------------\u001b[0m",
      "\u001b[1;31mNameError\u001b[0m                                 Traceback (most recent call last)",
      "\u001b[1;32m<ipython-input-13-7f5ff06cbbea>\u001b[0m in \u001b[0;36m<module>\u001b[1;34m\u001b[0m\n\u001b[1;32m----> 1\u001b[1;33m \u001b[0mbu\u001b[0m\u001b[1;33m\u001b[0m\u001b[1;33m\u001b[0m\u001b[0m\n\u001b[0m",
      "\u001b[1;31mNameError\u001b[0m: name 'bu' is not defined"
     ]
    }
   ],
   "source": [
    "\n"
   ]
  },
  {
   "cell_type": "markdown",
   "id": "1b434f41-8e16-4a4d-a8d0-96be3ed2a309",
   "metadata": {},
   "source": [
    "## Problem 3\n",
    "## Temperature Converter (3 points)\n",
    "\n",
    "A common beginner's exercise is to write a function that can convert a temperature value from one format, such as Fahrenheit, to another, such as Celsius.  \n",
    "\n",
    "In this problem, extend this idea to convert temperatures freely to and from any of the following formats: Celsius, Fahrenheit, and Kelvin.  \n",
    "\n",
    "**Write a function called `problem_3` that takes three positional arguments: (float) `temp`, (string) `original_format`, (string) `new_format`. The function should convert `temp`, which is represented in `original_format`, to its equivalent value in the `new_format.`**  \n",
    "\n",
    "Example input/output:  \n",
    "`problem_3(0.0, \"Celsius\", \"Fahrenheit\")` => `32.0`  \n",
    "`problem_3(500.0, \"Kelvin\", \"Fahrenheit\")` => `440.33`  \n",
    "`problem_3(273.0, \"Kelvin\", \"Celsius\")` => `0.0`  \n",
    "\n",
    "For your convenience:  \n",
    "1. The accuracy of your float outputs will only be evaluated to within 2 decimal places. (In other words: don't worry too much about getting the calculation *exactly* right.)"
   ]
  },
  {
   "cell_type": "code",
   "execution_count": 33,
   "id": "652183db-4f42-40cf-b8cf-f0120914b86b",
   "metadata": {},
   "outputs": [
    {
     "data": {
      "text/plain": [
       "-0.14999999999997726"
      ]
     },
     "execution_count": 33,
     "metadata": {},
     "output_type": "execute_result"
    }
   ],
   "source": [
    "def problem_3(temp, original_format,new_format):\n",
    "    if original_format == \"Celsius\" or original_format == \"celsius\":\n",
    "        if new_format == \"Kelvin\" or new_format == \"kelvin\":\n",
    "            new_temp = temp + 273.0\n",
    "            return new_temp\n",
    "        elif new_format == \"Fahrenheit\" or new_format == \"fahrenheit\":\n",
    "            new_temp = (temp * 1.8) + 32\n",
    "            return new_temp\n",
    "    elif original_format == \"Kelvin\" or original_format == \"kelvin\":\n",
    "        if new_format == \"Celsius\" or new_format == \"celsius\":\n",
    "            new_temp = temp - 273.15\n",
    "            return new_temp\n",
    "        elif new_format == \"Fahrenheit\" or new_format == \"fahrenheit\":\n",
    "            new_temp = ((temp - 273.15) * (9/5)) + 32\n",
    "            return new_temp\n",
    "    elif original_format == \"Fahrenheit\" or original_format == \"fahrenheit\":\n",
    "        if new_format == \"Celsius\" or new_format == \"celsius\":\n",
    "            new_temp = (temp - 32) / 1.8\n",
    "            return new_temp\n",
    "        elif new_format == \"Kelvin\" or new_format == \"kelvin\":\n",
    "            new_temp = ((temp - 32) / (9/5)) + 274.5\n",
    "            return new_temp\n",
    "    else:\n",
    "        return(\"Invalid input\")\n",
    "\n",
    "problem_3(273, \"kelvin\", \"celsius\")"
   ]
  },
  {
   "cell_type": "markdown",
   "id": "f12ed1ad-7738-4f4a-aa35-8f7ee87ea395",
   "metadata": {},
   "source": [
    "## Problem 4\n",
    "## Exact Change (4 points)\n",
    "\n",
    "Part of a cashier's job is to give exact change to customers. It can be difficult to mentally tally how many coins of each type (i.e., 1 peso, 25 centavos, 10 centavos, etc.) to give to a customer.  \n",
    "\n",
    "**Write a function called `problem_4` that takes 1 positional argument `amount` in centavos. The function should return a string that describes the appropriate amounts of each type of coin to give to the customer. The string should be formatted as follows:**  \n",
    "\n",
    "`\"1P:{num}/25C:{num}/10C:{num}/5C:{num}/1C:{num}\"`  \n",
    "\n",
    "**Use the fewest number of total coins possible.**  \n",
    "\n",
    "Example input/output:  \n",
    "`problem_4(105)` => `\"1P:1/25C:0/10C:0/5C:1/1C:0\"`  \n",
    "`problem_4(69)` => `\"1P:0/25C:2/10C:1/5C:1/1C:4\"`  "
   ]
  },
  {
   "cell_type": "code",
   "execution_count": 14,
   "id": "3899279e-d77b-49f6-a7ed-da43c631fff4",
   "metadata": {},
   "outputs": [
    {
     "data": {
      "text/plain": [
       "'1P:0/25C:2/10C:1/5C:1/1C:4'"
      ]
     },
     "execution_count": 14,
     "metadata": {},
     "output_type": "execute_result"
    }
   ],
   "source": [
    "def problem_4(amount):\n",
    "    one_p = amount // 100\n",
    "    amount = amount - (100 * one_p)\n",
    "    tfive_c = amount // 25 \n",
    "    amount = amount - (25 * tfive_c)\n",
    "    ten_c = amount // 10 \n",
    "    amount = amount - (10 * ten_c)\n",
    "    five_c = amount // 5\n",
    "    amount = amount - (5 * five_c)\n",
    "    one_c = amount // 1 \n",
    "    amount = amount - (1 * one_c)\n",
    "    \n",
    "    return f\"1P:{one_p}/25C:{tfive_c}/10C:{ten_c}/5C:{five_c}/1C:{one_c}\"\n",
    "\n",
    "problem_4(69)"
   ]
  },
  {
   "cell_type": "markdown",
   "id": "a45e4549-fb1a-4a4e-aceb-1eb46ceaa2c2",
   "metadata": {},
   "source": [
    "## Problem 5\n",
    "## Invert Capitalization (3 points)  \n",
    "\n",
    "**Write a function called `problem_5` that takes 1 positional argument (string) `message`. The function should return a string whose uppercase letters are now lowercase and whose lowercase letters are now uppercase. Spaces should be left alone.**  \n",
    "\n",
    "Example input/output:  \n",
    "`problem_5(\"Test Me\")` => `\"tEST mE\"`  \n",
    "`problem_5(\"asSiGnmENt\")` => `\"ASsIgNMenT\"`  \n",
    "\n",
    "For your convenience:  \n",
    "1. The message will only ever consist of spaces, lowercase letters, and uppercase letters.  \n",
    "\n",
    "Hint: Research on `ord()` and `chr()`.  "
   ]
  },
  {
   "cell_type": "code",
   "execution_count": 1,
   "id": "df8d9597-cca1-44ef-b1c8-a0050d512d45",
   "metadata": {},
   "outputs": [
    {
     "data": {
      "text/plain": [
       "'hELLO'"
      ]
     },
     "execution_count": 1,
     "metadata": {},
     "output_type": "execute_result"
    }
   ],
   "source": [
    "def problem_5(message):\n",
    "    message_list = []\n",
    "    output = \"\"\n",
    "    for a in message:\n",
    "        message_list.append(a)\n",
    "    \n",
    "    for b in range(len(message_list)):\n",
    "        if message_list[b].isupper() == True:\n",
    "            message_list[b] = message_list[b].lower()\n",
    "        else:\n",
    "            message_list[b] = message_list[b].upper()\n",
    "    for c in message_list:\n",
    "        output = output + c\n",
    "    return output\n",
    "\n",
    "problem_5(\"Hello\")"
   ]
  },
  {
   "cell_type": "code",
   "execution_count": null,
   "id": "79ccfc6b",
   "metadata": {},
   "outputs": [],
   "source": []
  }
 ],
 "metadata": {
  "kernelspec": {
   "display_name": "Python 3",
   "language": "python",
   "name": "python3"
  },
  "language_info": {
   "codemirror_mode": {
    "name": "ipython",
    "version": 3
   },
   "file_extension": ".py",
   "mimetype": "text/x-python",
   "name": "python",
   "nbconvert_exporter": "python",
   "pygments_lexer": "ipython3",
   "version": "3.8.8"
  }
 },
 "nbformat": 4,
 "nbformat_minor": 5
}
